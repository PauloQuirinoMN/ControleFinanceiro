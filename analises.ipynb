{
 "cells": [
  {
   "cell_type": "code",
   "execution_count": 52,
   "metadata": {},
   "outputs": [],
   "source": [
    "import pandas as pd\n",
    "import matplotlib.pyplot as plt"
   ]
  },
  {
   "cell_type": "code",
   "execution_count": 53,
   "metadata": {},
   "outputs": [
    {
     "data": {
      "text/html": [
       "<div>\n",
       "<style scoped>\n",
       "    .dataframe tbody tr th:only-of-type {\n",
       "        vertical-align: middle;\n",
       "    }\n",
       "\n",
       "    .dataframe tbody tr th {\n",
       "        vertical-align: top;\n",
       "    }\n",
       "\n",
       "    .dataframe thead th {\n",
       "        text-align: right;\n",
       "    }\n",
       "</style>\n",
       "<table border=\"1\" class=\"dataframe\">\n",
       "  <thead>\n",
       "    <tr style=\"text-align: right;\">\n",
       "      <th></th>\n",
       "      <th>Tipo</th>\n",
       "      <th>Descrição</th>\n",
       "      <th>Categoria</th>\n",
       "      <th>Valor</th>\n",
       "      <th>Forma de Transação</th>\n",
       "      <th>Ano</th>\n",
       "      <th>Mês</th>\n",
       "      <th>Dia</th>\n",
       "      <th>Hora</th>\n",
       "    </tr>\n",
       "  </thead>\n",
       "  <tbody>\n",
       "    <tr>\n",
       "      <th>0</th>\n",
       "      <td>Entrada</td>\n",
       "      <td>Mauro</td>\n",
       "      <td>Outros</td>\n",
       "      <td>60.00</td>\n",
       "      <td>Pix</td>\n",
       "      <td>2024</td>\n",
       "      <td>9</td>\n",
       "      <td>1</td>\n",
       "      <td>NaN</td>\n",
       "    </tr>\n",
       "    <tr>\n",
       "      <th>1</th>\n",
       "      <td>Saída</td>\n",
       "      <td>Valeska</td>\n",
       "      <td>Outros</td>\n",
       "      <td>30.00</td>\n",
       "      <td>Pix</td>\n",
       "      <td>2024</td>\n",
       "      <td>9</td>\n",
       "      <td>1</td>\n",
       "      <td>NaN</td>\n",
       "    </tr>\n",
       "    <tr>\n",
       "      <th>2</th>\n",
       "      <td>Saída</td>\n",
       "      <td>Charles</td>\n",
       "      <td>Outros</td>\n",
       "      <td>6.50</td>\n",
       "      <td>Cartão</td>\n",
       "      <td>2024</td>\n",
       "      <td>9</td>\n",
       "      <td>3</td>\n",
       "      <td>NaN</td>\n",
       "    </tr>\n",
       "    <tr>\n",
       "      <th>3</th>\n",
       "      <td>Saída</td>\n",
       "      <td>Paula</td>\n",
       "      <td>Outros</td>\n",
       "      <td>17.32</td>\n",
       "      <td>Pix</td>\n",
       "      <td>2024</td>\n",
       "      <td>9</td>\n",
       "      <td>3</td>\n",
       "      <td>NaN</td>\n",
       "    </tr>\n",
       "    <tr>\n",
       "      <th>4</th>\n",
       "      <td>Saída</td>\n",
       "      <td>Padaria</td>\n",
       "      <td>Alimento</td>\n",
       "      <td>0.90</td>\n",
       "      <td>Fiado</td>\n",
       "      <td>2024</td>\n",
       "      <td>9</td>\n",
       "      <td>3</td>\n",
       "      <td>NaN</td>\n",
       "    </tr>\n",
       "    <tr>\n",
       "      <th>5</th>\n",
       "      <td>Entrada</td>\n",
       "      <td>Ajuda Custo</td>\n",
       "      <td>Salário</td>\n",
       "      <td>419.75</td>\n",
       "      <td>Pix</td>\n",
       "      <td>2024</td>\n",
       "      <td>9</td>\n",
       "      <td>4</td>\n",
       "      <td>NaN</td>\n",
       "    </tr>\n",
       "    <tr>\n",
       "      <th>6</th>\n",
       "      <td>Saída</td>\n",
       "      <td>Confiança</td>\n",
       "      <td>Alimento</td>\n",
       "      <td>14.42</td>\n",
       "      <td>Outro</td>\n",
       "      <td>2024</td>\n",
       "      <td>9</td>\n",
       "      <td>4</td>\n",
       "      <td>NaN</td>\n",
       "    </tr>\n",
       "    <tr>\n",
       "      <th>7</th>\n",
       "      <td>Saída</td>\n",
       "      <td>Uber</td>\n",
       "      <td>Transporte</td>\n",
       "      <td>6.87</td>\n",
       "      <td>Pix</td>\n",
       "      <td>2024</td>\n",
       "      <td>9</td>\n",
       "      <td>4</td>\n",
       "      <td>NaN</td>\n",
       "    </tr>\n",
       "    <tr>\n",
       "      <th>8</th>\n",
       "      <td>Saída</td>\n",
       "      <td>Fabiola Maria</td>\n",
       "      <td>Outros</td>\n",
       "      <td>90.00</td>\n",
       "      <td>Dinheiro</td>\n",
       "      <td>2024</td>\n",
       "      <td>9</td>\n",
       "      <td>4</td>\n",
       "      <td>NaN</td>\n",
       "    </tr>\n",
       "    <tr>\n",
       "      <th>9</th>\n",
       "      <td>Saída</td>\n",
       "      <td>Charles</td>\n",
       "      <td>Outros</td>\n",
       "      <td>20.00</td>\n",
       "      <td>Pix</td>\n",
       "      <td>2024</td>\n",
       "      <td>9</td>\n",
       "      <td>4</td>\n",
       "      <td>NaN</td>\n",
       "    </tr>\n",
       "  </tbody>\n",
       "</table>\n",
       "</div>"
      ],
      "text/plain": [
       "      Tipo      Descrição   Categoria   Valor Forma de Transação   Ano  Mês  \\\n",
       "0  Entrada          Mauro      Outros   60.00                Pix  2024    9   \n",
       "1    Saída        Valeska      Outros   30.00                Pix  2024    9   \n",
       "2    Saída        Charles      Outros    6.50             Cartão  2024    9   \n",
       "3    Saída          Paula      Outros   17.32                Pix  2024    9   \n",
       "4    Saída        Padaria    Alimento    0.90              Fiado  2024    9   \n",
       "5  Entrada    Ajuda Custo     Salário  419.75                Pix  2024    9   \n",
       "6    Saída      Confiança    Alimento   14.42              Outro  2024    9   \n",
       "7    Saída           Uber  Transporte    6.87                Pix  2024    9   \n",
       "8    Saída  Fabiola Maria      Outros   90.00           Dinheiro  2024    9   \n",
       "9    Saída        Charles      Outros   20.00                Pix  2024    9   \n",
       "\n",
       "   Dia  Hora  \n",
       "0    1   NaN  \n",
       "1    1   NaN  \n",
       "2    3   NaN  \n",
       "3    3   NaN  \n",
       "4    3   NaN  \n",
       "5    4   NaN  \n",
       "6    4   NaN  \n",
       "7    4   NaN  \n",
       "8    4   NaN  \n",
       "9    4   NaN  "
      ]
     },
     "execution_count": 53,
     "metadata": {},
     "output_type": "execute_result"
    }
   ],
   "source": [
    "df = pd.read_excel('transacoes.xlsx')\n",
    "df.head(10)"
   ]
  },
  {
   "cell_type": "code",
   "execution_count": null,
   "metadata": {},
   "outputs": [],
   "source": []
  },
  {
   "cell_type": "code",
   "execution_count": 54,
   "metadata": {},
   "outputs": [
    {
     "data": {
      "text/plain": [
       "Categoria\n",
       "Transporte    67\n",
       "Alimento      49\n",
       "Outros        44\n",
       "Lazer         25\n",
       "Salário        6\n",
       "Moradia        4\n",
       "Esporte        4\n",
       "Emprestimo     4\n",
       "Empestimo      2\n",
       "Roupas         1\n",
       "Name: count, dtype: int64"
      ]
     },
     "execution_count": 54,
     "metadata": {},
     "output_type": "execute_result"
    }
   ],
   "source": [
    "frequecia_categoria = df['Categoria'].value_counts()\n",
    "frequecia_categoria"
   ]
  },
  {
   "cell_type": "code",
   "execution_count": null,
   "metadata": {},
   "outputs": [],
   "source": [
    "frequencia_formas = df['Forma de Transação'].value_counts()\n",
    "frequencia_formas"
   ]
  },
  {
   "cell_type": "code",
   "execution_count": null,
   "metadata": {},
   "outputs": [],
   "source": [
    "# Valor total por categoria\n",
    "categoria_soma = df.groupby('Categoria')['Valor'].sum()\n",
    "categoria_soma"
   ]
  },
  {
   "cell_type": "code",
   "execution_count": null,
   "metadata": {},
   "outputs": [],
   "source": [
    "# Valor total por Forma de trasação\n",
    "\n",
    "forma_soma = df.groupby('Forma de Transação')['Valor'].sum()\n",
    "forma_soma"
   ]
  },
  {
   "cell_type": "code",
   "execution_count": null,
   "metadata": {},
   "outputs": [],
   "source": [
    "# Análises Combinatórias das Categorias\n",
    "\n",
    "\n",
    "categoria_analise = df.groupby('Categoria').agg({'Valor':'sum', 'Tipo':'count'}).rename(\n",
    "    columns={'Tipo':'Frequência', 'Valor':'Valor Total'}\n",
    ")\n",
    "categoria_analise"
   ]
  },
  {
   "cell_type": "code",
   "execution_count": null,
   "metadata": {},
   "outputs": [],
   "source": [
    "categoria_analise['Frequência'].plot(kind='bar')\n",
    "plt.title('Frenquência de transações por Categoria')\n",
    "plt.xlabel('Categoria')\n",
    "plt.ylabel('Frenquência')\n",
    "plt.show()"
   ]
  },
  {
   "cell_type": "code",
   "execution_count": null,
   "metadata": {},
   "outputs": [],
   "source": [
    "categoria_analise['Valor Total'].plot(kind='bar')\n",
    "plt.title('Valor Total por Categoria')\n",
    "plt.xlabel('Categoria')\n",
    "plt.ylabel('Valor Total (R$)')\n",
    "plt.show()"
   ]
  },
  {
   "cell_type": "code",
   "execution_count": null,
   "metadata": {},
   "outputs": [],
   "source": [
    "#  para uma visualização proporcional\n",
    "categoria_soma.plot(kind='pie', autopct='%1.1f%%')\n",
    "plt.title('Distribuição do Valor Total por Forma de Transação')\n",
    "plt.show()"
   ]
  },
  {
   "cell_type": "code",
   "execution_count": null,
   "metadata": {},
   "outputs": [],
   "source": [
    "# Análises Combinatórias das formas de transação \n",
    "\n",
    "\n",
    "tipo_analise = df.groupby('Forma de Transação').agg({'Valor':'sum', 'Tipo':'count'}).rename(\n",
    "    columns={'Tipo':'Frequência', 'Valor':'Valor Total'}\n",
    ")\n",
    "tipo_analise"
   ]
  },
  {
   "cell_type": "code",
   "execution_count": null,
   "metadata": {},
   "outputs": [],
   "source": [
    "tipo_analise['Frequência'].plot(kind='bar')\n",
    "plt.title('Frenquência de transações por Forma de Transação')\n",
    "plt.xlabel('Forma')\n",
    "plt.ylabel('Frenquência')\n",
    "plt.show()"
   ]
  },
  {
   "cell_type": "code",
   "execution_count": null,
   "metadata": {},
   "outputs": [],
   "source": [
    "#  para uma visualização proporcional\n",
    "forma_soma.plot(kind='pie', autopct='%1.1f%%')\n",
    "plt.title('Distribuição do Valor Total por Forma de Transação')\n",
    "plt.ylabel('Valor %')\n",
    "plt.show()"
   ]
  }
 ],
 "metadata": {
  "kernelspec": {
   "display_name": "venv",
   "language": "python",
   "name": "python3"
  },
  "language_info": {
   "codemirror_mode": {
    "name": "ipython",
    "version": 3
   },
   "file_extension": ".py",
   "mimetype": "text/x-python",
   "name": "python",
   "nbconvert_exporter": "python",
   "pygments_lexer": "ipython3",
   "version": "3.12.4"
  }
 },
 "nbformat": 4,
 "nbformat_minor": 2
}
