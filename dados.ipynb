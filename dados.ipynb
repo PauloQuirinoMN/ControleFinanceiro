{
 "cells": [
  {
   "cell_type": "code",
   "execution_count": 43,
   "metadata": {},
   "outputs": [],
   "source": [
    "import pandas as pd\n",
    "from datetime import datetime"
   ]
  },
  {
   "cell_type": "code",
   "execution_count": 44,
   "metadata": {},
   "outputs": [
    {
     "data": {
      "text/html": [
       "<div>\n",
       "<style scoped>\n",
       "    .dataframe tbody tr th:only-of-type {\n",
       "        vertical-align: middle;\n",
       "    }\n",
       "\n",
       "    .dataframe tbody tr th {\n",
       "        vertical-align: top;\n",
       "    }\n",
       "\n",
       "    .dataframe thead th {\n",
       "        text-align: right;\n",
       "    }\n",
       "</style>\n",
       "<table border=\"1\" class=\"dataframe\">\n",
       "  <thead>\n",
       "    <tr style=\"text-align: right;\">\n",
       "      <th></th>\n",
       "      <th>Tipo</th>\n",
       "      <th>Descrição</th>\n",
       "      <th>Categoria</th>\n",
       "      <th>Valor</th>\n",
       "      <th>Forma de Transação</th>\n",
       "      <th>Ano</th>\n",
       "      <th>Mês</th>\n",
       "      <th>Dia</th>\n",
       "      <th>Hora</th>\n",
       "    </tr>\n",
       "  </thead>\n",
       "  <tbody>\n",
       "    <tr>\n",
       "      <th>0</th>\n",
       "      <td>Entrada</td>\n",
       "      <td>emprestimo</td>\n",
       "      <td>Empréstimos</td>\n",
       "      <td>60.00</td>\n",
       "      <td>Pix</td>\n",
       "      <td>2024</td>\n",
       "      <td>9</td>\n",
       "      <td>1</td>\n",
       "      <td>09:17:50</td>\n",
       "    </tr>\n",
       "    <tr>\n",
       "      <th>1</th>\n",
       "      <td>Saída</td>\n",
       "      <td>cbs Valeska</td>\n",
       "      <td>Lazer</td>\n",
       "      <td>30.00</td>\n",
       "      <td>Pix</td>\n",
       "      <td>2024</td>\n",
       "      <td>9</td>\n",
       "      <td>1</td>\n",
       "      <td>09:18:30</td>\n",
       "    </tr>\n",
       "    <tr>\n",
       "      <th>2</th>\n",
       "      <td>Saída</td>\n",
       "      <td>Charles</td>\n",
       "      <td>Outros</td>\n",
       "      <td>6.50</td>\n",
       "      <td>Pix</td>\n",
       "      <td>2024</td>\n",
       "      <td>9</td>\n",
       "      <td>3</td>\n",
       "      <td>09:18:57</td>\n",
       "    </tr>\n",
       "    <tr>\n",
       "      <th>3</th>\n",
       "      <td>Saída</td>\n",
       "      <td>Ana Paula</td>\n",
       "      <td>Outros</td>\n",
       "      <td>17.32</td>\n",
       "      <td>Pix</td>\n",
       "      <td>2024</td>\n",
       "      <td>9</td>\n",
       "      <td>3</td>\n",
       "      <td>09:19:26</td>\n",
       "    </tr>\n",
       "    <tr>\n",
       "      <th>4</th>\n",
       "      <td>Saída</td>\n",
       "      <td>pão</td>\n",
       "      <td>Alimento</td>\n",
       "      <td>0.90</td>\n",
       "      <td>Pix</td>\n",
       "      <td>2024</td>\n",
       "      <td>9</td>\n",
       "      <td>3</td>\n",
       "      <td>09:19:53</td>\n",
       "    </tr>\n",
       "    <tr>\n",
       "      <th>...</th>\n",
       "      <td>...</td>\n",
       "      <td>...</td>\n",
       "      <td>...</td>\n",
       "      <td>...</td>\n",
       "      <td>...</td>\n",
       "      <td>...</td>\n",
       "      <td>...</td>\n",
       "      <td>...</td>\n",
       "      <td>...</td>\n",
       "    </tr>\n",
       "    <tr>\n",
       "      <th>121</th>\n",
       "      <td>Entrada</td>\n",
       "      <td>leandro</td>\n",
       "      <td>Outros</td>\n",
       "      <td>20.00</td>\n",
       "      <td>Pix</td>\n",
       "      <td>2024</td>\n",
       "      <td>9</td>\n",
       "      <td>28</td>\n",
       "      <td>10:39:12</td>\n",
       "    </tr>\n",
       "    <tr>\n",
       "      <th>122</th>\n",
       "      <td>Saída</td>\n",
       "      <td>uber</td>\n",
       "      <td>Transporte</td>\n",
       "      <td>5.60</td>\n",
       "      <td>Pix</td>\n",
       "      <td>2024</td>\n",
       "      <td>9</td>\n",
       "      <td>28</td>\n",
       "      <td>10:39:35</td>\n",
       "    </tr>\n",
       "    <tr>\n",
       "      <th>123</th>\n",
       "      <td>Saída</td>\n",
       "      <td>cbs Valeska</td>\n",
       "      <td>Lazer</td>\n",
       "      <td>15.00</td>\n",
       "      <td>Pix</td>\n",
       "      <td>2024</td>\n",
       "      <td>9</td>\n",
       "      <td>28</td>\n",
       "      <td>10:40:03</td>\n",
       "    </tr>\n",
       "    <tr>\n",
       "      <th>124</th>\n",
       "      <td>Saída</td>\n",
       "      <td>uber</td>\n",
       "      <td>Transporte</td>\n",
       "      <td>4.00</td>\n",
       "      <td>Pix</td>\n",
       "      <td>2024</td>\n",
       "      <td>9</td>\n",
       "      <td>28</td>\n",
       "      <td>10:40:40</td>\n",
       "    </tr>\n",
       "    <tr>\n",
       "      <th>125</th>\n",
       "      <td>Saída</td>\n",
       "      <td>padaria</td>\n",
       "      <td>Alimento</td>\n",
       "      <td>2.70</td>\n",
       "      <td>Pix</td>\n",
       "      <td>2024</td>\n",
       "      <td>9</td>\n",
       "      <td>29</td>\n",
       "      <td>10:41:12</td>\n",
       "    </tr>\n",
       "  </tbody>\n",
       "</table>\n",
       "<p>126 rows × 9 columns</p>\n",
       "</div>"
      ],
      "text/plain": [
       "        Tipo     Descrição    Categoria  Valor Forma de Transação   Ano  Mês  \\\n",
       "0    Entrada    emprestimo  Empréstimos  60.00                Pix  2024    9   \n",
       "1      Saída   cbs Valeska        Lazer  30.00                Pix  2024    9   \n",
       "2      Saída       Charles       Outros   6.50                Pix  2024    9   \n",
       "3      Saída     Ana Paula       Outros  17.32                Pix  2024    9   \n",
       "4      Saída           pão     Alimento   0.90                Pix  2024    9   \n",
       "..       ...           ...          ...    ...                ...   ...  ...   \n",
       "121  Entrada       leandro       Outros  20.00                Pix  2024    9   \n",
       "122    Saída          uber   Transporte   5.60                Pix  2024    9   \n",
       "123    Saída   cbs Valeska        Lazer  15.00                Pix  2024    9   \n",
       "124    Saída          uber   Transporte   4.00                Pix  2024    9   \n",
       "125    Saída       padaria     Alimento   2.70                Pix  2024    9   \n",
       "\n",
       "     Dia      Hora  \n",
       "0      1  09:17:50  \n",
       "1      1  09:18:30  \n",
       "2      3  09:18:57  \n",
       "3      3  09:19:26  \n",
       "4      3  09:19:53  \n",
       "..   ...       ...  \n",
       "121   28  10:39:12  \n",
       "122   28  10:39:35  \n",
       "123   28  10:40:03  \n",
       "124   28  10:40:40  \n",
       "125   29  10:41:12  \n",
       "\n",
       "[126 rows x 9 columns]"
      ]
     },
     "execution_count": 44,
     "metadata": {},
     "output_type": "execute_result"
    }
   ],
   "source": [
    "df = pd.read_excel('transacoes.xlsx')\n",
    "df"
   ]
  },
  {
   "cell_type": "code",
   "execution_count": 45,
   "metadata": {},
   "outputs": [
    {
     "data": {
      "text/plain": [
       "Tipo                  0\n",
       "Descrição             0\n",
       "Categoria             0\n",
       "Valor                 0\n",
       "Forma de Transação    0\n",
       "Ano                   0\n",
       "Mês                   0\n",
       "Dia                   0\n",
       "Hora                  0\n",
       "dtype: int64"
      ]
     },
     "execution_count": 45,
     "metadata": {},
     "output_type": "execute_result"
    }
   ],
   "source": [
    "df.isnull().sum()"
   ]
  },
  {
   "cell_type": "code",
   "execution_count": 46,
   "metadata": {},
   "outputs": [
    {
     "data": {
      "text/html": [
       "<div>\n",
       "<style scoped>\n",
       "    .dataframe tbody tr th:only-of-type {\n",
       "        vertical-align: middle;\n",
       "    }\n",
       "\n",
       "    .dataframe tbody tr th {\n",
       "        vertical-align: top;\n",
       "    }\n",
       "\n",
       "    .dataframe thead th {\n",
       "        text-align: right;\n",
       "    }\n",
       "</style>\n",
       "<table border=\"1\" class=\"dataframe\">\n",
       "  <thead>\n",
       "    <tr style=\"text-align: right;\">\n",
       "      <th></th>\n",
       "      <th>Valor</th>\n",
       "      <th>Ano</th>\n",
       "      <th>Mês</th>\n",
       "      <th>Dia</th>\n",
       "    </tr>\n",
       "  </thead>\n",
       "  <tbody>\n",
       "    <tr>\n",
       "      <th>count</th>\n",
       "      <td>126.000000</td>\n",
       "      <td>126.0</td>\n",
       "      <td>126.0</td>\n",
       "      <td>126.000000</td>\n",
       "    </tr>\n",
       "    <tr>\n",
       "      <th>mean</th>\n",
       "      <td>45.213889</td>\n",
       "      <td>2024.0</td>\n",
       "      <td>9.0</td>\n",
       "      <td>14.484127</td>\n",
       "    </tr>\n",
       "    <tr>\n",
       "      <th>std</th>\n",
       "      <td>139.703181</td>\n",
       "      <td>0.0</td>\n",
       "      <td>0.0</td>\n",
       "      <td>8.024696</td>\n",
       "    </tr>\n",
       "    <tr>\n",
       "      <th>min</th>\n",
       "      <td>0.900000</td>\n",
       "      <td>2024.0</td>\n",
       "      <td>9.0</td>\n",
       "      <td>1.000000</td>\n",
       "    </tr>\n",
       "    <tr>\n",
       "      <th>25%</th>\n",
       "      <td>4.567500</td>\n",
       "      <td>2024.0</td>\n",
       "      <td>9.0</td>\n",
       "      <td>7.000000</td>\n",
       "    </tr>\n",
       "    <tr>\n",
       "      <th>50%</th>\n",
       "      <td>6.500000</td>\n",
       "      <td>2024.0</td>\n",
       "      <td>9.0</td>\n",
       "      <td>14.000000</td>\n",
       "    </tr>\n",
       "    <tr>\n",
       "      <th>75%</th>\n",
       "      <td>20.000000</td>\n",
       "      <td>2024.0</td>\n",
       "      <td>9.0</td>\n",
       "      <td>21.000000</td>\n",
       "    </tr>\n",
       "    <tr>\n",
       "      <th>max</th>\n",
       "      <td>1296.180000</td>\n",
       "      <td>2024.0</td>\n",
       "      <td>9.0</td>\n",
       "      <td>29.000000</td>\n",
       "    </tr>\n",
       "  </tbody>\n",
       "</table>\n",
       "</div>"
      ],
      "text/plain": [
       "             Valor     Ano    Mês         Dia\n",
       "count   126.000000   126.0  126.0  126.000000\n",
       "mean     45.213889  2024.0    9.0   14.484127\n",
       "std     139.703181     0.0    0.0    8.024696\n",
       "min       0.900000  2024.0    9.0    1.000000\n",
       "25%       4.567500  2024.0    9.0    7.000000\n",
       "50%       6.500000  2024.0    9.0   14.000000\n",
       "75%      20.000000  2024.0    9.0   21.000000\n",
       "max    1296.180000  2024.0    9.0   29.000000"
      ]
     },
     "execution_count": 46,
     "metadata": {},
     "output_type": "execute_result"
    }
   ],
   "source": [
    "df.describe()"
   ]
  },
  {
   "cell_type": "code",
   "execution_count": 47,
   "metadata": {},
   "outputs": [
    {
     "data": {
      "text/plain": [
       "Tipo\n",
       "Entrada    2676.93\n",
       "Saída      3020.02\n",
       "Name: Valor, dtype: float64"
      ]
     },
     "execution_count": 47,
     "metadata": {},
     "output_type": "execute_result"
    }
   ],
   "source": [
    "df.groupby('Tipo')['Valor'].sum()"
   ]
  },
  {
   "cell_type": "code",
   "execution_count": 49,
   "metadata": {},
   "outputs": [
    {
     "data": {
      "text/plain": [
       "Categoria\n",
       "Alimento        539.77\n",
       "Empréstimos     327.00\n",
       "Esposte         129.90\n",
       "Lazer           360.00\n",
       "Moradia         600.00\n",
       "Outros         1149.49\n",
       "Salário        2131.93\n",
       "Transporte      258.86\n",
       "Vestiuário      200.00\n",
       "Name: Valor, dtype: float64"
      ]
     },
     "execution_count": 49,
     "metadata": {},
     "output_type": "execute_result"
    }
   ],
   "source": [
    "df.groupby('Categoria')['Valor'].sum()"
   ]
  },
  {
   "cell_type": "code",
   "execution_count": 53,
   "metadata": {},
   "outputs": [
    {
     "data": {
      "text/plain": [
       "Forma de Transação\n",
       "Pix    5696.95\n",
       "Name: Valor, dtype: float64"
      ]
     },
     "execution_count": 53,
     "metadata": {},
     "output_type": "execute_result"
    }
   ],
   "source": [
    "df.groupby('Forma de Transação')['Valor'].sum()"
   ]
  }
 ],
 "metadata": {
  "kernelspec": {
   "display_name": "venv",
   "language": "python",
   "name": "python3"
  },
  "language_info": {
   "codemirror_mode": {
    "name": "ipython",
    "version": 3
   },
   "file_extension": ".py",
   "mimetype": "text/x-python",
   "name": "python",
   "nbconvert_exporter": "python",
   "pygments_lexer": "ipython3",
   "version": "3.12.4"
  }
 },
 "nbformat": 4,
 "nbformat_minor": 2
}
